{
 "cells": [
  {
   "cell_type": "code",
   "execution_count": 1,
   "metadata": {},
   "outputs": [],
   "source": [
    "#Ctoe_factors\n",
    "ctoe = {'car' : {'diesel': {'small':0.14208,\n",
    "                         'medium':0.17061,\n",
    "                         'large':0.20947,\n",
    "                         'average':0.17336}, \n",
    "               'petrol':{'small':0.15371,\n",
    "                        'medium':0.19228,\n",
    "                        'large':0.28295,\n",
    "                        'average':1.18084},\n",
    "               'hybrid':{'small':0.10520,\n",
    "                        'medium':0.10895,\n",
    "                        'large':0.13177,\n",
    "                        'average':0.11473},\n",
    "               'battery_EV':{'small':0.0,\n",
    "                            'medium':0.0,\n",
    "                            'large':0.0,\n",
    "                            'average':0.0}\n",
    "              },\n",
    "        'air' : {'domestic':{'average':0.25493},\n",
    "              'EU':{'average':0.15832,\n",
    "                   'economy':0.15573,\n",
    "                   'business':0.2336},\n",
    "              'international':{'average':0.19562,\n",
    "                              'economy':0.14981,\n",
    "                              'business':0.43446}\n",
    "              },\n",
    "        'bus' : {'local':0.10471,\n",
    "              'coach':0.02779},\n",
    "        'rail' : {'national':0.04115,\n",
    "               'international':0.00597,\n",
    "               'tram':0.03508,\n",
    "               'underground':0.03084}\n",
    "       }"
   ]
  },
  {
   "cell_type": "code",
   "execution_count": 22,
   "metadata": {},
   "outputs": [
    {
     "name": "stdout",
     "output_type": "stream",
     "text": [
      "Travel footprint:  17.336  ctoe.\n"
     ]
    }
   ],
   "source": [
    "#Calculate one travel\n",
    "\n",
    "#define in kilometres, up to .0 accuracy\n",
    "distance = 100.0\n",
    "#define vehicle type as a list, separated by commas, in square brackets []\n",
    "vehicle = ['car', 'diesel', 'average']\n",
    "\n",
    "#please do not modify the formula below\n",
    "if len(vehicle) == 3:\n",
    "    vehicle_ctoe = ctoe[vehicle[0]][vehicle[1]][vehicle[2]]\n",
    "elif len(vehicle) == 2:\n",
    "    vehicle_ctoe = ctoe[vehicle[0]][vehicle[1]]\n",
    "\n",
    "print('Travel footprint: ', distance * vehicle_ctoe, \" ctoe.\")"
   ]
  },
  {
   "cell_type": "code",
   "execution_count": 20,
   "metadata": {},
   "outputs": [
    {
     "name": "stdout",
     "output_type": "stream",
     "text": [
      "Travel footprint:  17.798599999999997  ctoe.\n"
     ]
    }
   ],
   "source": [
    "#Caculate multiple travels\n",
    "\n",
    "#define travels in kilometres as a list of each individual travel, up to .0 accuracy, in square brackets\n",
    "distances = [100.0, 15.0]\n",
    "\n",
    "#define vehicle types as lists of lists, separated by commas, each sublist in square brackets\n",
    "vehicles = [\n",
    "    ['car','diesel','average'],\n",
    "    ['rail','underground']\n",
    "]\n",
    "#note that the outer square brackets are already given\n",
    "\n",
    "#please do not modify the formula below\n",
    "footprints = []\n",
    "chain = dict(zip(distances,vehicles))\n",
    "\n",
    "for k, v in chain.items():\n",
    "    if len(v) == 3:\n",
    "        v_ctoe = ctoe[v[0]][v[1]][v[2]]\n",
    "        footprint = v_ctoe * k\n",
    "        footprints.append(footprint)\n",
    "    elif len(v) == 2:\n",
    "        v_ctoe = ctoe[v[0]][v[1]]\n",
    "        footprint = v_ctoe * k\n",
    "        footprints.append(footprint)\n",
    "        \n",
    "print('Travel footprint: ', sum(footprints), \" ctoe.\")"
   ]
  },
  {
   "cell_type": "code",
   "execution_count": null,
   "metadata": {},
   "outputs": [],
   "source": []
  }
 ],
 "metadata": {
  "kernelspec": {
   "display_name": "Python 3",
   "language": "python",
   "name": "python3"
  },
  "language_info": {
   "codemirror_mode": {
    "name": "ipython",
    "version": 3
   },
   "file_extension": ".py",
   "mimetype": "text/x-python",
   "name": "python",
   "nbconvert_exporter": "python",
   "pygments_lexer": "ipython3",
   "version": "3.7.4"
  }
 },
 "nbformat": 4,
 "nbformat_minor": 2
}
